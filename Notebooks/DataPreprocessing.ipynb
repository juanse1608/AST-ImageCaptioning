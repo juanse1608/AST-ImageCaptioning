{
 "cells": [
  {
   "cell_type": "markdown",
   "metadata": {
    "toc": true
   },
   "source": [
    "<h1>Table of Contents<span class=\"tocSkip\"></span></h1>\n",
    "<div class=\"toc\"><ul class=\"toc-item\"><li><span><a href=\"#Import-Libraries\" data-toc-modified-id=\"Import-Libraries-1\"><span class=\"toc-item-num\">1&nbsp;&nbsp;</span>Import Libraries</a></span></li><li><span><a href=\"#Data-Preprocessing\" data-toc-modified-id=\"Data-Preprocessing-2\"><span class=\"toc-item-num\">2&nbsp;&nbsp;</span>Data Preprocessing</a></span></li></ul></div>"
   ]
  },
  {
   "cell_type": "markdown",
   "metadata": {
    "id": "Ob7dvTLiLjr8"
   },
   "source": [
    "# Data Preprocessing - Advanced Statistics Topics\n",
    "\n",
    "In this notebook, we do the general preprocessing and exploratory data analysis of our dataset."
   ]
  },
  {
   "cell_type": "markdown",
   "metadata": {
    "id": "R6lCo231DGwz"
   },
   "source": [
    "## Import Libraries\n",
    "\n",
    "In this section we import the requiere libraries and establish the connection with Google Drive."
   ]
  },
  {
   "cell_type": "code",
   "execution_count": 1,
   "metadata": {
    "ExecuteTime": {
     "end_time": "2021-04-27T02:01:33.794803Z",
     "start_time": "2021-04-27T02:01:30.263185Z"
    },
    "colab": {
     "base_uri": "https://localhost:8080/"
    },
    "executionInfo": {
     "elapsed": 2539,
     "status": "ok",
     "timestamp": 1619286825061,
     "user": {
      "displayName": "Juan Sebastián Corredor Rodriguez",
      "photoUrl": "https://lh3.googleusercontent.com/a-/AOh14Gg2L8scmlYwhvLo3vpWLdXyDpSw25hFyxiHLmuBkA=s64",
      "userId": "08065951281948333020"
     },
     "user_tz": 300
    },
    "id": "WdtmqKdzMA0W",
    "outputId": "aacbb865-e22a-4bf6-bda8-848b8f2e7724"
   },
   "outputs": [
    {
     "name": "stdout",
     "output_type": "stream",
     "text": [
      "TENSORFLOW VERSION: 2.4.1\n"
     ]
    }
   ],
   "source": [
    "# Se importan las librerias necesarias\n",
    "import numpy as np\n",
    "import pandas as  pd\n",
    "import os\n",
    "import gzip\n",
    "import timeit\n",
    "# from google.colab import drive # Necesario para GoogleColab\n",
    "\n",
    "# Tensorflow 2.x\n",
    "import tensorflow as tf # Not required for this notebook \n",
    "print('TENSORFLOW VERSION: {}'.format(tf.__version__))"
   ]
  },
  {
   "cell_type": "code",
   "execution_count": 2,
   "metadata": {
    "colab": {
     "base_uri": "https://localhost:8080/"
    },
    "executionInfo": {
     "elapsed": 20608,
     "status": "ok",
     "timestamp": 1619287530907,
     "user": {
      "displayName": "Juan Sebastián Corredor Rodriguez",
      "photoUrl": "https://lh3.googleusercontent.com/a-/AOh14Gg2L8scmlYwhvLo3vpWLdXyDpSw25hFyxiHLmuBkA=s64",
      "userId": "08065951281948333020"
     },
     "user_tz": 300
    },
    "id": "zp8cp8wMMBhN",
    "outputId": "ee8af9ba-a277-4705-c1e5-70c5ff2217f8"
   },
   "outputs": [],
   "source": [
    "# Se fija el directorio referencia con el se conecta colab a drive # Necesario para GoogleColab\n",
    "# drive.mount('/content/drive')"
   ]
  },
  {
   "cell_type": "code",
   "execution_count": 3,
   "metadata": {
    "ExecuteTime": {
     "end_time": "2021-04-27T02:04:53.659950Z",
     "start_time": "2021-04-27T02:04:53.657808Z"
    },
    "executionInfo": {
     "elapsed": 521,
     "status": "ok",
     "timestamp": 1619287535242,
     "user": {
      "displayName": "Juan Sebastián Corredor Rodriguez",
      "photoUrl": "https://lh3.googleusercontent.com/a-/AOh14Gg2L8scmlYwhvLo3vpWLdXyDpSw25hFyxiHLmuBkA=s64",
      "userId": "08065951281948333020"
     },
     "user_tz": 300
    },
    "id": "b9mNBsu2ENCt"
   },
   "outputs": [],
   "source": [
    "# Se guarda en una variable el directorio del curso\n",
    "\n",
    "# Directorio de los datos\n",
    "# data_folder = 'drive/MyDrive/Colab Notebooks/AST-ImageCaptioning/Data/'\n",
    "data_folder = '../Data/'"
   ]
  },
  {
   "cell_type": "markdown",
   "metadata": {
    "id": "n5xxl12mE6Z8"
   },
   "source": [
    "## Data Preprocessing\n",
    "\n",
    "In this section we process the images and its respective captions."
   ]
  },
  {
   "cell_type": "code",
   "execution_count": 5,
   "metadata": {
    "ExecuteTime": {
     "end_time": "2021-04-27T02:16:19.581472Z",
     "start_time": "2021-04-27T02:15:29.836556Z"
    },
    "id": "lOiRu0uiES94"
   },
   "outputs": [
    {
     "name": "stdout",
     "output_type": "stream",
     "text": [
      "Downloading data from http://images.cocodataset.org/annotations/annotations_trainval2014.zip\n",
      "252878848/252872794 [==============================] - 45s 0us/step\n"
     ]
    }
   ],
   "source": [
    "# Download caption annotation files\n",
    "annotation_folder = data_folder + '/Captions/'\n",
    "if not os.path.exists(os.path.abspath('.') + '/' + annotation_folder):\n",
    "    annotation_zip = tf.keras.utils.get_file('captions.zip',\n",
    "                              cache_subdir=os.path.abspath('.') + '/'  annotation_folder,\n",
    "                              origin='http://images.cocodataset.org/annotations/annotations_trainval2014.zip',\n",
    "                              extract=True)\n",
    "    os.rename(annotation_folder + 'annotations/', annotation_folder)\n",
    "    annotation_file = os.path.dirname(annotation_zip) + '/annotations/captions_train2014.json'\n",
    "    os.remove(annotation_zip)"
   ]
  },
  {
   "cell_type": "code",
   "execution_count": 9,
   "metadata": {
    "ExecuteTime": {
     "end_time": "2021-04-27T02:52:03.610368Z",
     "start_time": "2021-04-27T02:28:21.723165Z"
    }
   },
   "outputs": [
    {
     "name": "stdout",
     "output_type": "stream",
     "text": [
      "Downloading data from http://images.cocodataset.org/zips/train2014.zip\n",
      "13510574080/13510573713 [==============================] - 1371s 0us/step\n"
     ]
    }
   ],
   "source": [
    "# Download image files\n",
    "image_folder = data_folder + 'Images/'\n",
    "if not os.path.exists(os.path.abspath('.') + '/' + image_folder):\n",
    "    image_zip = tf.keras.utils.get_file('Train.zip',\n",
    "                                      cache_subdir=os.path.abspath('.') + '/' + image_folder,\n",
    "                                      origin='http://images.cocodataset.org/zips/train2014.zip',\n",
    "                                      extract=True)\n",
    "    os.rename(image_folder + 'train2014/', image_folder + 'Train/')\n",
    "    PATH = os.path.dirname(image_zip) + image_folder\n",
    "    os.remove(image_zip)\n",
    "else:\n",
    "    PATH = os.path.abspath('.') + image_folder"
   ]
  },
  {
   "cell_type": "markdown",
   "metadata": {
    "heading_collapsed": true
   },
   "source": [
    "# End"
   ]
  },
  {
   "cell_type": "code",
   "execution_count": null,
   "metadata": {
    "hidden": true
   },
   "outputs": [],
   "source": []
  }
 ],
 "metadata": {
  "accelerator": "GPU",
  "colab": {
   "collapsed_sections": [
    "n5xxl12mE6Z8",
    "JC9Ysqc-Kzzl",
    "8MNl6Q-JNsmb",
    "_gntN_1-N4ho",
    "0eZZ5mdeQc_i"
   ],
   "name": "DataPreprocessing.ipynb",
   "provenance": [],
   "toc_visible": true
  },
  "environment": {
   "name": "tf2-gpu.2-4.m65",
   "type": "gcloud",
   "uri": "gcr.io/deeplearning-platform-release/tf2-gpu.2-4:m65"
  },
  "kernelspec": {
   "display_name": "Python 3",
   "language": "python",
   "name": "python3"
  },
  "language_info": {
   "codemirror_mode": {
    "name": "ipython",
    "version": 3
   },
   "file_extension": ".py",
   "mimetype": "text/x-python",
   "name": "python",
   "nbconvert_exporter": "python",
   "pygments_lexer": "ipython3",
   "version": "3.8.2"
  },
  "toc": {
   "base_numbering": 1,
   "nav_menu": {},
   "number_sections": true,
   "sideBar": true,
   "skip_h1_title": true,
   "title_cell": "Table of Contents",
   "title_sidebar": "Contents",
   "toc_cell": true,
   "toc_position": {
    "height": "calc(100% - 180px)",
    "left": "10px",
    "top": "150px",
    "width": "206.2px"
   },
   "toc_section_display": true,
   "toc_window_display": true
  }
 },
 "nbformat": 4,
 "nbformat_minor": 4
}
