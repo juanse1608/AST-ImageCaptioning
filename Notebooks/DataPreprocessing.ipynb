{
 "cells": [
  {
   "cell_type": "markdown",
   "metadata": {
    "id": "Ob7dvTLiLjr8"
   },
   "source": [
    "# Data Preprocessing - Advanced Statistics Topics\n",
    "\n",
    "In this notebook, we do the general preprocessing and exploratory data analysis of our dataset."
   ]
  },
  {
   "cell_type": "markdown",
   "metadata": {
    "id": "R6lCo231DGwz"
   },
   "source": [
    "## Import Libraries\n",
    "\n",
    "In this section we import the requiere libraries and establish the connection with Google Drive."
   ]
  },
  {
   "cell_type": "code",
   "execution_count": 1,
   "metadata": {
    "colab": {
     "base_uri": "https://localhost:8080/"
    },
    "executionInfo": {
     "elapsed": 2539,
     "status": "ok",
     "timestamp": 1619286825061,
     "user": {
      "displayName": "Juan Sebastián Corredor Rodriguez",
      "photoUrl": "https://lh3.googleusercontent.com/a-/AOh14Gg2L8scmlYwhvLo3vpWLdXyDpSw25hFyxiHLmuBkA=s64",
      "userId": "08065951281948333020"
     },
     "user_tz": 300
    },
    "id": "WdtmqKdzMA0W",
    "outputId": "aacbb865-e22a-4bf6-bda8-848b8f2e7724"
   },
   "outputs": [
    {
     "name": "stdout",
     "output_type": "stream",
     "text": [
      "TENSORFLOW VERSION: 2.4.1\n"
     ]
    }
   ],
   "source": [
    "# Se importan las librerias necesarias\n",
    "import numpy as np\n",
    "import pandas as  pd\n",
    "import os\n",
    "import gzip\n",
    "import timeit\n",
    "# from google.colab import drive # Necesario para GoogleColab\n",
    "\n",
    "# Tensorflow 2.x\n",
    "import tensorflow as tf # Not required for this notebook \n",
    "print('TENSORFLOW VERSION: {}'.format(tf.__version__))"
   ]
  },
  {
   "cell_type": "code",
   "execution_count": 2,
   "metadata": {
    "colab": {
     "base_uri": "https://localhost:8080/"
    },
    "executionInfo": {
     "elapsed": 20608,
     "status": "ok",
     "timestamp": 1619287530907,
     "user": {
      "displayName": "Juan Sebastián Corredor Rodriguez",
      "photoUrl": "https://lh3.googleusercontent.com/a-/AOh14Gg2L8scmlYwhvLo3vpWLdXyDpSw25hFyxiHLmuBkA=s64",
      "userId": "08065951281948333020"
     },
     "user_tz": 300
    },
    "id": "zp8cp8wMMBhN",
    "outputId": "ee8af9ba-a277-4705-c1e5-70c5ff2217f8"
   },
   "outputs": [],
   "source": [
    "# Se fija el directorio referencia con el se conecta colab a drive # Necesario para GoogleColab\n",
    "# drive.mount('/content/drive')"
   ]
  },
  {
   "cell_type": "code",
   "execution_count": 3,
   "metadata": {
    "executionInfo": {
     "elapsed": 521,
     "status": "ok",
     "timestamp": 1619287535242,
     "user": {
      "displayName": "Juan Sebastián Corredor Rodriguez",
      "photoUrl": "https://lh3.googleusercontent.com/a-/AOh14Gg2L8scmlYwhvLo3vpWLdXyDpSw25hFyxiHLmuBkA=s64",
      "userId": "08065951281948333020"
     },
     "user_tz": 300
    },
    "id": "b9mNBsu2ENCt"
   },
   "outputs": [],
   "source": [
    "# Se guarda en una variable el directorio del curso\n",
    "\n",
    "# Directorio de los datos\n",
    "# data_folder = 'drive/MyDrive/Colab Notebooks/AST-ImageCaptioning/Data/'\n",
    "data_folder = '../Data/'"
   ]
  },
  {
   "cell_type": "markdown",
   "metadata": {
    "id": "n5xxl12mE6Z8"
   },
   "source": [
    "## Procesamiento de Datos\n",
    "\n",
    "En esta sección se procesan los datos con los cuales se va a realizar el experimento de: __CPU__ vs __GPU__ vs __TPU__."
   ]
  },
  {
   "cell_type": "code",
   "execution_count": null,
   "metadata": {
    "id": "lOiRu0uiES94"
   },
   "outputs": [],
   "source": []
  },
  {
   "cell_type": "code",
   "execution_count": null,
   "metadata": {
    "id": "ZcAq8HYe90eq"
   },
   "outputs": [],
   "source": []
  }
 ],
 "metadata": {
  "accelerator": "GPU",
  "colab": {
   "collapsed_sections": [
    "n5xxl12mE6Z8",
    "JC9Ysqc-Kzzl",
    "8MNl6Q-JNsmb",
    "_gntN_1-N4ho",
    "0eZZ5mdeQc_i"
   ],
   "name": "DataPreprocessing.ipynb",
   "provenance": [],
   "toc_visible": true
  },
  "environment": {
   "name": "tf2-gpu.2-4.m65",
   "type": "gcloud",
   "uri": "gcr.io/deeplearning-platform-release/tf2-gpu.2-4:m65"
  },
  "kernelspec": {
   "display_name": "Python 3",
   "language": "python",
   "name": "python3"
  },
  "language_info": {
   "codemirror_mode": {
    "name": "ipython",
    "version": 3
   },
   "file_extension": ".py",
   "mimetype": "text/x-python",
   "name": "python",
   "nbconvert_exporter": "python",
   "pygments_lexer": "ipython3",
   "version": "3.7.10"
  }
 },
 "nbformat": 4,
 "nbformat_minor": 4
}
