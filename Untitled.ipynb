{
 "cells": [
  {
   "cell_type": "markdown",
   "metadata": {
    "toc": true
   },
   "source": [
    "<h1>Table of Contents<span class=\"tocSkip\"></span></h1>\n",
    "<div class=\"toc\"><ul class=\"toc-item\"></ul></div>"
   ]
  },
  {
   "cell_type": "code",
   "execution_count": 1,
   "metadata": {
    "ExecuteTime": {
     "end_time": "2021-08-12T02:35:46.018748Z",
     "start_time": "2021-08-12T02:35:45.116216Z"
    }
   },
   "outputs": [],
   "source": [
    "import os\n",
    "from google.cloud import storage, bigquery "
   ]
  },
  {
   "cell_type": "code",
   "execution_count": 2,
   "metadata": {
    "ExecuteTime": {
     "end_time": "2021-08-12T02:35:46.022760Z",
     "start_time": "2021-08-12T02:35:46.020539Z"
    }
   },
   "outputs": [],
   "source": [
    "try:\n",
    "    os.environ['GOOGLE_APPLICATION_CREDENTIALS'] = 'GOOGLE_ACC_CREDENTIALS.json'\n",
    "except:\n",
    "    os.environ['GOOGLE_APPLICATION_CREDENTIALS'] = st.secrets[\"GOOGLE_ACC_CREDENTIALS\"]"
   ]
  },
  {
   "cell_type": "code",
   "execution_count": 3,
   "metadata": {
    "ExecuteTime": {
     "end_time": "2021-08-12T02:35:49.795548Z",
     "start_time": "2021-08-12T02:35:49.772122Z"
    }
   },
   "outputs": [
    {
     "name": "stdout",
     "output_type": "stream",
     "text": [
      "asaaaaaaaaaas\n",
      "asasas\n",
      "dfdfd\n"
     ]
    }
   ],
   "source": [
    "storage_cl = storage.Client()\n",
    "print('asaaaaaaaaaas')\n",
    "bigq_cl = bigquery.Client()\n",
    "print('asasas')\n",
    "bucket_name = 'img-captioning-feedback'\n",
    "print('dfdfd')\n",
    "# feedback_bucket = storage_cl.get_bucket(bucket_name)"
   ]
  },
  {
   "cell_type": "code",
   "execution_count": 4,
   "metadata": {
    "ExecuteTime": {
     "end_time": "2021-08-12T02:36:01.304649Z",
     "start_time": "2021-08-12T02:35:54.348306Z"
    }
   },
   "outputs": [],
   "source": [
    "feedback_bucket = storage_cl.get_bucket(bucket_name, )"
   ]
  },
  {
   "cell_type": "code",
   "execution_count": 7,
   "metadata": {
    "ExecuteTime": {
     "end_time": "2021-08-12T02:54:36.368586Z",
     "start_time": "2021-08-12T02:54:36.360758Z"
    }
   },
   "outputs": [
    {
     "data": {
      "text/plain": [
       "str"
      ]
     },
     "execution_count": 7,
     "metadata": {},
     "output_type": "execute_result"
    }
   ],
   "source": [
    "a = ''\n",
    "type(a)"
   ]
  },
  {
   "cell_type": "code",
   "execution_count": 42,
   "metadata": {
    "ExecuteTime": {
     "end_time": "2021-08-12T01:07:59.471666Z",
     "start_time": "2021-08-12T01:07:59.468302Z"
    }
   },
   "outputs": [
    {
     "data": {
      "text/plain": [
       "<Bucket: img-captioning-feedback>"
      ]
     },
     "execution_count": 42,
     "metadata": {},
     "output_type": "execute_result"
    }
   ],
   "source": [
    "feedback_bucket"
   ]
  },
  {
   "cell_type": "code",
   "execution_count": 38,
   "metadata": {
    "ExecuteTime": {
     "end_time": "2021-08-12T00:51:07.321063Z",
     "start_time": "2021-08-12T00:51:07.318509Z"
    }
   },
   "outputs": [],
   "source": [
    "blobs = storage_cl.list_blobs(bucket_name, prefix='images/', delimiter='/')\n",
    "#[b.name for b in blobs if len(b.name.split('.')) == 2]"
   ]
  },
  {
   "cell_type": "code",
   "execution_count": 39,
   "metadata": {
    "ExecuteTime": {
     "end_time": "2021-08-12T00:51:08.023324Z",
     "start_time": "2021-08-12T00:51:07.869375Z"
    }
   },
   "outputs": [],
   "source": [
    "\n",
    "files = []\n",
    "for f in blobs:\n",
    "    f_n = f.name.split('/')[1]\n",
    "    try:\n",
    "        files.append(int(f_n.split('.')[0]))\n",
    "    except:\n",
    "        pass"
   ]
  },
  {
   "cell_type": "code",
   "execution_count": 40,
   "metadata": {
    "ExecuteTime": {
     "end_time": "2021-08-12T00:51:08.501615Z",
     "start_time": "2021-08-12T00:51:08.498390Z"
    }
   },
   "outputs": [
    {
     "data": {
      "text/plain": [
       "[0]"
      ]
     },
     "execution_count": 40,
     "metadata": {},
     "output_type": "execute_result"
    }
   ],
   "source": [
    "files"
   ]
  },
  {
   "cell_type": "code",
   "execution_count": 29,
   "metadata": {
    "ExecuteTime": {
     "end_time": "2021-08-12T00:41:07.726090Z",
     "start_time": "2021-08-12T00:41:07.603490Z"
    }
   },
   "outputs": [
    {
     "name": "stdout",
     "output_type": "stream",
     "text": [
      "images/\n",
      "images/0.jpg\n"
     ]
    }
   ],
   "source": [
    "for b in blobs:\n",
    "    print(b.name)"
   ]
  },
  {
   "cell_type": "code",
   "execution_count": 26,
   "metadata": {
    "ExecuteTime": {
     "end_time": "2021-08-12T00:40:33.634775Z",
     "start_time": "2021-08-12T00:40:33.627469Z"
    }
   },
   "outputs": [
    {
     "ename": "TypeError",
     "evalue": "from_string() missing 1 required positional argument: 'uri'",
     "output_type": "error",
     "traceback": [
      "\u001b[0;31m---------------------------------------------------------------------------\u001b[0m",
      "\u001b[0;31mTypeError\u001b[0m                                 Traceback (most recent call last)",
      "\u001b[0;32m<ipython-input-26-fe6ac30fa805>\u001b[0m in \u001b[0;36m<module>\u001b[0;34m\u001b[0m\n\u001b[0;32m----> 1\u001b[0;31m \u001b[0mb\u001b[0m\u001b[0;34m.\u001b[0m\u001b[0mfrom_string\u001b[0m\u001b[0;34m(\u001b[0m\u001b[0;34m)\u001b[0m\u001b[0;34m\u001b[0m\u001b[0;34m\u001b[0m\u001b[0m\n\u001b[0m",
      "\u001b[0;31mTypeError\u001b[0m: from_string() missing 1 required positional argument: 'uri'"
     ]
    }
   ],
   "source": [
    "b"
   ]
  },
  {
   "cell_type": "code",
   "execution_count": null,
   "metadata": {},
   "outputs": [],
   "source": []
  }
 ],
 "metadata": {
  "kernelspec": {
   "display_name": "Python 3",
   "language": "python",
   "name": "python3"
  },
  "language_info": {
   "codemirror_mode": {
    "name": "ipython",
    "version": 3
   },
   "file_extension": ".py",
   "mimetype": "text/x-python",
   "name": "python",
   "nbconvert_exporter": "python",
   "pygments_lexer": "ipython3",
   "version": "3.8.2"
  },
  "toc": {
   "base_numbering": 1,
   "nav_menu": {},
   "number_sections": true,
   "sideBar": true,
   "skip_h1_title": true,
   "title_cell": "Table of Contents",
   "title_sidebar": "Contents",
   "toc_cell": true,
   "toc_position": {},
   "toc_section_display": true,
   "toc_window_display": true
  }
 },
 "nbformat": 4,
 "nbformat_minor": 4
}
